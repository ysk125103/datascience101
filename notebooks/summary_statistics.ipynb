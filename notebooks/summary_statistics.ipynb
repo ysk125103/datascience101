{
 "cells": [
  {
   "cell_type": "markdown",
   "id": "c6781900",
   "metadata": {},
   "source": [
    "## Summary Statistics Using Pandas"
   ]
  },
  {
   "cell_type": "code",
   "execution_count": 1,
   "id": "4e7c0188",
   "metadata": {},
   "outputs": [],
   "source": [
    "import numpy as np\n",
    "import pandas as pd"
   ]
  },
  {
   "cell_type": "markdown",
   "id": "33d4080a",
   "metadata": {},
   "source": [
    "Let's generate a random list of numbers:"
   ]
  },
  {
   "cell_type": "code",
   "execution_count": 2,
   "id": "b6ec3daa",
   "metadata": {},
   "outputs": [],
   "source": [
    "random_seed = 175\n",
    "np.random.seed(random_seed)\n",
    "\n",
    "data = np.random.normal(5, 15, 30)\n",
    "data_df = pd.DataFrame({\"data\":data})"
   ]
  },
  {
   "cell_type": "markdown",
   "id": "ac04f2bc",
   "metadata": {},
   "source": [
    "Panda's `describe()` method prints some summary stats. But that doesn't include some of my favorite stats. \n",
    "\n",
    "So we'll write a few lines of code to generate below stats: \n",
    "* Minimum Value\n",
    "* Maximum Value\n",
    "* Range\n",
    "* Mean\n",
    "* Median\n",
    "* Standard Deviation\n",
    "* Inter Quartile Range\n",
    "\n",
    "Pandas doesn't have built-in aggregate functions for IQR and range. So we write our own. "
   ]
  },
  {
   "cell_type": "code",
   "execution_count": 23,
   "id": "4e45978e",
   "metadata": {},
   "outputs": [],
   "source": [
    "# Input's inter quartile range\n",
    "def IQR(column): \n",
    "    q25, q75 = column.quantile([0.25, 0.75])\n",
    "    return q75-q25\n",
    "\n",
    "# input's range  \n",
    "def range_f(column):\n",
    "    return column.max() - column.min()"
   ]
  },
  {
   "cell_type": "code",
   "execution_count": 24,
   "id": "d17e25db",
   "metadata": {},
   "outputs": [],
   "source": [
    "stats_list = [\n",
    "    'min', 'max', range_f, 'mean', 'median', \n",
    "    'std', # standard deviation \n",
    "    IQR   \n",
    "]"
   ]
  },
  {
   "cell_type": "code",
   "execution_count": 27,
   "id": "7efa0963",
   "metadata": {},
   "outputs": [
    {
     "data": {
      "text/html": [
       "<div>\n",
       "<style scoped>\n",
       "    .dataframe tbody tr th:only-of-type {\n",
       "        vertical-align: middle;\n",
       "    }\n",
       "\n",
       "    .dataframe tbody tr th {\n",
       "        vertical-align: top;\n",
       "    }\n",
       "\n",
       "    .dataframe thead th {\n",
       "        text-align: right;\n",
       "    }\n",
       "</style>\n",
       "<table border=\"1\" class=\"dataframe\">\n",
       "  <thead>\n",
       "    <tr style=\"text-align: right;\">\n",
       "      <th></th>\n",
       "      <th>Value</th>\n",
       "    </tr>\n",
       "  </thead>\n",
       "  <tbody>\n",
       "    <tr>\n",
       "      <th>Minimum</th>\n",
       "      <td>-23.72</td>\n",
       "    </tr>\n",
       "    <tr>\n",
       "      <th>Maximum</th>\n",
       "      <td>37.45</td>\n",
       "    </tr>\n",
       "    <tr>\n",
       "      <th>Range</th>\n",
       "      <td>61.17</td>\n",
       "    </tr>\n",
       "    <tr>\n",
       "      <th>Mean</th>\n",
       "      <td>5.92</td>\n",
       "    </tr>\n",
       "    <tr>\n",
       "      <th>Median</th>\n",
       "      <td>4.62</td>\n",
       "    </tr>\n",
       "    <tr>\n",
       "      <th>Standard Deviation</th>\n",
       "      <td>15.47</td>\n",
       "    </tr>\n",
       "    <tr>\n",
       "      <th>IQR</th>\n",
       "      <td>17.23</td>\n",
       "    </tr>\n",
       "  </tbody>\n",
       "</table>\n",
       "</div>"
      ],
      "text/plain": [
       "                    Value\n",
       "Minimum            -23.72\n",
       "Maximum             37.45\n",
       "Range               61.17\n",
       "Mean                 5.92\n",
       "Median               4.62\n",
       "Standard Deviation  15.47\n",
       "IQR                 17.23"
      ]
     },
     "execution_count": 27,
     "metadata": {},
     "output_type": "execute_result"
    }
   ],
   "source": [
    "summary_stats = data_df.agg(stats_list).round(2)\n",
    "\n",
    "pretty_names = ['Minimum', 'Maximum', 'Range', 'Mean', 'Median', 'Standard Deviation', 'IQR']\n",
    "summary_stats = pd.DataFrame(summary_stats.values, index=pretty_names, columns=['Value'])\n",
    "summary_stats"
   ]
  },
  {
   "cell_type": "code",
   "execution_count": null,
   "id": "7481a498",
   "metadata": {},
   "outputs": [],
   "source": []
  }
 ],
 "metadata": {
  "kernelspec": {
   "display_name": "Python 3 (ipykernel)",
   "language": "python",
   "name": "python3"
  },
  "language_info": {
   "codemirror_mode": {
    "name": "ipython",
    "version": 3
   },
   "file_extension": ".py",
   "mimetype": "text/x-python",
   "name": "python",
   "nbconvert_exporter": "python",
   "pygments_lexer": "ipython3",
   "version": "3.10.0"
  }
 },
 "nbformat": 4,
 "nbformat_minor": 5
}

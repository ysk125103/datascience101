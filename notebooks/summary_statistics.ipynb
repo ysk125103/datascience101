{
 "cells": [
  {
   "cell_type": "markdown",
   "id": "c6781900",
   "metadata": {},
   "source": [
    "## Summary Statistics Using Pandas"
   ]
  },
  {
   "cell_type": "code",
   "execution_count": 1,
   "id": "4e7c0188",
   "metadata": {},
   "outputs": [],
   "source": [
    "import numpy as np\n",
    "import pandas as pd"
   ]
  },
  {
   "cell_type": "markdown",
   "id": "33d4080a",
   "metadata": {},
   "source": [
    "Let's generate a random list of numbers:"
   ]
  },
  {
   "cell_type": "code",
   "execution_count": 2,
   "id": "b6ec3daa",
   "metadata": {},
   "outputs": [],
   "source": [
    "data = np.random.normal(5, 15, 30)\n",
    "data_df = pd.DataFrame({\"data\":data})"
   ]
  },
  {
   "cell_type": "markdown",
   "id": "ac04f2bc",
   "metadata": {},
   "source": [
    "Panda's `describe()` method prints some summary stats. But that doesn't include some of my favorite stats. \n",
    "\n",
    "So we'll write a few lines of code to generate below stats: \n",
    "* Minimum Value\n",
    "* Maximum Value\n",
    "* Range\n",
    "* Mean\n",
    "* Median\n",
    "* Standard Deviation\n",
    "* Inter Quartile Range\n",
    "\n",
    "Pandas doesn't have built-in aggregate functions for IQR and range. So we write our own. "
   ]
  },
  {
   "cell_type": "code",
   "execution_count": 3,
   "id": "4e45978e",
   "metadata": {},
   "outputs": [],
   "source": [
    "# Input's inter quartile range\n",
    "def IQR(column): \n",
    "    q25, q75 = column.quantile([0.25, 0.75])\n",
    "    return q75-q25\n",
    "\n",
    "# input's range  \n",
    "def range_f(column):\n",
    "    return column.max() - column.min()"
   ]
  },
  {
   "cell_type": "code",
   "execution_count": 4,
   "id": "d17e25db",
   "metadata": {},
   "outputs": [],
   "source": [
    "stats_list = [\n",
    "    'min', 'max', range_f, 'mean', 'median', \n",
    "    'std', # standard deviation \n",
    "    IQR   \n",
    "]"
   ]
  },
  {
   "cell_type": "code",
   "execution_count": 5,
   "id": "7efa0963",
   "metadata": {},
   "outputs": [
    {
     "data": {
      "text/html": [
       "<div>\n",
       "<style scoped>\n",
       "    .dataframe tbody tr th:only-of-type {\n",
       "        vertical-align: middle;\n",
       "    }\n",
       "\n",
       "    .dataframe tbody tr th {\n",
       "        vertical-align: top;\n",
       "    }\n",
       "\n",
       "    .dataframe thead th {\n",
       "        text-align: right;\n",
       "    }\n",
       "</style>\n",
       "<table border=\"1\" class=\"dataframe\">\n",
       "  <thead>\n",
       "    <tr style=\"text-align: right;\">\n",
       "      <th></th>\n",
       "      <th>Value</th>\n",
       "    </tr>\n",
       "  </thead>\n",
       "  <tbody>\n",
       "    <tr>\n",
       "      <th>Minimum</th>\n",
       "      <td>-20.54</td>\n",
       "    </tr>\n",
       "    <tr>\n",
       "      <th>Maximum</th>\n",
       "      <td>51.00</td>\n",
       "    </tr>\n",
       "    <tr>\n",
       "      <th>Range</th>\n",
       "      <td>71.53</td>\n",
       "    </tr>\n",
       "    <tr>\n",
       "      <th>Mean</th>\n",
       "      <td>6.01</td>\n",
       "    </tr>\n",
       "    <tr>\n",
       "      <th>Median</th>\n",
       "      <td>7.18</td>\n",
       "    </tr>\n",
       "    <tr>\n",
       "      <th>Standard Deviation</th>\n",
       "      <td>13.49</td>\n",
       "    </tr>\n",
       "    <tr>\n",
       "      <th>IQR</th>\n",
       "      <td>17.38</td>\n",
       "    </tr>\n",
       "  </tbody>\n",
       "</table>\n",
       "</div>"
      ],
      "text/plain": [
       "                    Value\n",
       "Minimum            -20.54\n",
       "Maximum             51.00\n",
       "Range               71.53\n",
       "Mean                 6.01\n",
       "Median               7.18\n",
       "Standard Deviation  13.49\n",
       "IQR                 17.38"
      ]
     },
     "execution_count": 5,
     "metadata": {},
     "output_type": "execute_result"
    }
   ],
   "source": [
    "summary_stats = data_df.agg(stats_list).round(2)\n",
    "\n",
    "pretty_names = ['Minimum', 'Maximum', 'Range', 'Mean', 'Median', 'Standard Deviation', 'IQR']\n",
    "summary_stats = pd.DataFrame(summary_stats.values, index=pretty_names, columns=['Value'])\n",
    "summary_stats"
   ]
  },
  {
   "cell_type": "code",
   "execution_count": null,
   "id": "7481a498",
   "metadata": {},
   "outputs": [],
   "source": []
  }
 ],
 "metadata": {
  "kernelspec": {
   "display_name": "Python 3 (ipykernel)",
   "language": "python",
   "name": "python3"
  },
  "language_info": {
   "codemirror_mode": {
    "name": "ipython",
    "version": 3
   },
   "file_extension": ".py",
   "mimetype": "text/x-python",
   "name": "python",
   "nbconvert_exporter": "python",
   "pygments_lexer": "ipython3",
   "version": "3.10.0"
  }
 },
 "nbformat": 4,
 "nbformat_minor": 5
}

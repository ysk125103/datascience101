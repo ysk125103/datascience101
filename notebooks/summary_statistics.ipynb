{
 "cells": [
  {
   "cell_type": "markdown",
   "id": "c6781900",
   "metadata": {},
   "source": [
    "## Custom Summary Statistics Using Pandas"
   ]
  },
  {
   "cell_type": "code",
   "execution_count": 1,
   "id": "4e7c0188",
   "metadata": {},
   "outputs": [],
   "source": [
    "import numpy as np\n",
    "import pandas as pd"
   ]
  },
  {
   "cell_type": "markdown",
   "id": "33d4080a",
   "metadata": {},
   "source": [
    "Let's generate a random list of numbers:"
   ]
  },
  {
   "cell_type": "code",
   "execution_count": 2,
   "id": "b6ec3daa",
   "metadata": {},
   "outputs": [],
   "source": [
    "data = np.random.normal(5, 15, 30)\n",
    "data_df = pd.DataFrame({\"data\":data})"
   ]
  },
  {
   "cell_type": "markdown",
   "id": "ac04f2bc",
   "metadata": {},
   "source": [
    "Panda's `describe()` method prints some summary stats:"
   ]
  },
  {
   "cell_type": "code",
   "execution_count": 3,
   "id": "8602a137",
   "metadata": {},
   "outputs": [
    {
     "data": {
      "text/html": [
       "<div>\n",
       "<style scoped>\n",
       "    .dataframe tbody tr th:only-of-type {\n",
       "        vertical-align: middle;\n",
       "    }\n",
       "\n",
       "    .dataframe tbody tr th {\n",
       "        vertical-align: top;\n",
       "    }\n",
       "\n",
       "    .dataframe thead th {\n",
       "        text-align: right;\n",
       "    }\n",
       "</style>\n",
       "<table border=\"1\" class=\"dataframe\">\n",
       "  <thead>\n",
       "    <tr style=\"text-align: right;\">\n",
       "      <th></th>\n",
       "      <th>data</th>\n",
       "    </tr>\n",
       "  </thead>\n",
       "  <tbody>\n",
       "    <tr>\n",
       "      <th>count</th>\n",
       "      <td>30.000000</td>\n",
       "    </tr>\n",
       "    <tr>\n",
       "      <th>mean</th>\n",
       "      <td>2.455036</td>\n",
       "    </tr>\n",
       "    <tr>\n",
       "      <th>std</th>\n",
       "      <td>17.356238</td>\n",
       "    </tr>\n",
       "    <tr>\n",
       "      <th>min</th>\n",
       "      <td>-28.232676</td>\n",
       "    </tr>\n",
       "    <tr>\n",
       "      <th>25%</th>\n",
       "      <td>-11.093863</td>\n",
       "    </tr>\n",
       "    <tr>\n",
       "      <th>50%</th>\n",
       "      <td>2.903202</td>\n",
       "    </tr>\n",
       "    <tr>\n",
       "      <th>75%</th>\n",
       "      <td>16.059090</td>\n",
       "    </tr>\n",
       "    <tr>\n",
       "      <th>max</th>\n",
       "      <td>34.131654</td>\n",
       "    </tr>\n",
       "  </tbody>\n",
       "</table>\n",
       "</div>"
      ],
      "text/plain": [
       "            data\n",
       "count  30.000000\n",
       "mean    2.455036\n",
       "std    17.356238\n",
       "min   -28.232676\n",
       "25%   -11.093863\n",
       "50%     2.903202\n",
       "75%    16.059090\n",
       "max    34.131654"
      ]
     },
     "execution_count": 3,
     "metadata": {},
     "output_type": "execute_result"
    }
   ],
   "source": [
    "data_df.describe()"
   ]
  },
  {
   "cell_type": "markdown",
   "id": "a0c0f1eb",
   "metadata": {},
   "source": [
    "But that doesn't include some of my favorite stats. \n",
    "\n",
    "We'll write a few lines of code to include below stats: \n",
    "* Minimum Value\n",
    "* Maximum Value\n",
    "* Range\n",
    "* Mean\n",
    "* Median\n",
    "* Standard Deviation\n",
    "* Inter Quartile Range (IQR)\n",
    "\n",
    "Pandas doesn't have built-in aggregate functions for Range and IQR. So we write our own:"
   ]
  },
  {
   "cell_type": "code",
   "execution_count": 4,
   "id": "4e45978e",
   "metadata": {},
   "outputs": [],
   "source": [
    "# Input's inter quartile range\n",
    "def IQR(column): \n",
    "    q25, q75 = column.quantile([0.25, 0.75])\n",
    "    return q75-q25\n",
    "\n",
    "# input's range  \n",
    "def range_f(column):\n",
    "    return column.max() - column.min()"
   ]
  },
  {
   "cell_type": "code",
   "execution_count": 5,
   "id": "d17e25db",
   "metadata": {},
   "outputs": [],
   "source": [
    "stats_list = [\n",
    "    'min', 'max', range_f, 'mean', 'median', \n",
    "    'std', # standard deviation \n",
    "    IQR   \n",
    "]"
   ]
  },
  {
   "cell_type": "markdown",
   "id": "595453a9",
   "metadata": {},
   "source": [
    "Let's calculate the stats using pandas' `agg()` method: "
   ]
  },
  {
   "cell_type": "code",
   "execution_count": 6,
   "id": "7efa0963",
   "metadata": {},
   "outputs": [
    {
     "data": {
      "text/html": [
       "<div>\n",
       "<style scoped>\n",
       "    .dataframe tbody tr th:only-of-type {\n",
       "        vertical-align: middle;\n",
       "    }\n",
       "\n",
       "    .dataframe tbody tr th {\n",
       "        vertical-align: top;\n",
       "    }\n",
       "\n",
       "    .dataframe thead th {\n",
       "        text-align: right;\n",
       "    }\n",
       "</style>\n",
       "<table border=\"1\" class=\"dataframe\">\n",
       "  <thead>\n",
       "    <tr style=\"text-align: right;\">\n",
       "      <th></th>\n",
       "      <th>Value</th>\n",
       "    </tr>\n",
       "  </thead>\n",
       "  <tbody>\n",
       "    <tr>\n",
       "      <th>Minimum</th>\n",
       "      <td>-28.23</td>\n",
       "    </tr>\n",
       "    <tr>\n",
       "      <th>Maximum</th>\n",
       "      <td>34.13</td>\n",
       "    </tr>\n",
       "    <tr>\n",
       "      <th>Range</th>\n",
       "      <td>62.36</td>\n",
       "    </tr>\n",
       "    <tr>\n",
       "      <th>Mean</th>\n",
       "      <td>2.46</td>\n",
       "    </tr>\n",
       "    <tr>\n",
       "      <th>Median</th>\n",
       "      <td>2.90</td>\n",
       "    </tr>\n",
       "    <tr>\n",
       "      <th>Standard Deviation</th>\n",
       "      <td>17.36</td>\n",
       "    </tr>\n",
       "    <tr>\n",
       "      <th>IQR</th>\n",
       "      <td>27.15</td>\n",
       "    </tr>\n",
       "  </tbody>\n",
       "</table>\n",
       "</div>"
      ],
      "text/plain": [
       "                    Value\n",
       "Minimum            -28.23\n",
       "Maximum             34.13\n",
       "Range               62.36\n",
       "Mean                 2.46\n",
       "Median               2.90\n",
       "Standard Deviation  17.36\n",
       "IQR                 27.15"
      ]
     },
     "execution_count": 6,
     "metadata": {},
     "output_type": "execute_result"
    }
   ],
   "source": [
    "summary_stats = data_df.agg(stats_list).round(2)\n",
    "\n",
    "pretty_names = ['Minimum', 'Maximum', 'Range', 'Mean', 'Median', 'Standard Deviation', 'IQR']\n",
    "summary_stats = pd.DataFrame(summary_stats.values, index=pretty_names, columns=['Value'])\n",
    "summary_stats"
   ]
  },
  {
   "cell_type": "markdown",
   "id": "7481a498",
   "metadata": {},
   "source": [
    "---------------"
   ]
  },
  {
   "cell_type": "markdown",
   "id": "84aaa5bb",
   "metadata": {},
   "source": [
    "Check out my Machine Learning blog at https://YashmeetSingh.com"
   ]
  },
  {
   "cell_type": "markdown",
   "id": "47621364",
   "metadata": {},
   "source": []
  }
 ],
 "metadata": {
  "kernelspec": {
   "display_name": "Python 3 (ipykernel)",
   "language": "python",
   "name": "python3"
  },
  "language_info": {
   "codemirror_mode": {
    "name": "ipython",
    "version": 3
   },
   "file_extension": ".py",
   "mimetype": "text/x-python",
   "name": "python",
   "nbconvert_exporter": "python",
   "pygments_lexer": "ipython3",
   "version": "3.10.0"
  }
 },
 "nbformat": 4,
 "nbformat_minor": 5
}

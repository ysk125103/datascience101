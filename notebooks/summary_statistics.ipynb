{
 "cells": [
  {
   "cell_type": "markdown",
   "id": "c6781900",
   "metadata": {},
   "source": [
    "# Custom Summary Statistics Using Pandas"
   ]
  },
  {
   "cell_type": "code",
   "execution_count": 1,
   "id": "4e7c0188",
   "metadata": {},
   "outputs": [],
   "source": [
    "import numpy as np\n",
    "import pandas as pd"
   ]
  },
  {
   "cell_type": "markdown",
   "id": "33d4080a",
   "metadata": {},
   "source": [
    "Let's generate a random list of numbers:"
   ]
  },
  {
   "cell_type": "code",
   "execution_count": 2,
   "id": "b6ec3daa",
   "metadata": {},
   "outputs": [
    {
     "data": {
      "text/html": [
       "<div>\n",
       "<style scoped>\n",
       "    .dataframe tbody tr th:only-of-type {\n",
       "        vertical-align: middle;\n",
       "    }\n",
       "\n",
       "    .dataframe tbody tr th {\n",
       "        vertical-align: top;\n",
       "    }\n",
       "\n",
       "    .dataframe thead th {\n",
       "        text-align: right;\n",
       "    }\n",
       "</style>\n",
       "<table border=\"1\" class=\"dataframe\">\n",
       "  <thead>\n",
       "    <tr style=\"text-align: right;\">\n",
       "      <th></th>\n",
       "      <th>data</th>\n",
       "    </tr>\n",
       "  </thead>\n",
       "  <tbody>\n",
       "    <tr>\n",
       "      <th>0</th>\n",
       "      <td>19.111743</td>\n",
       "    </tr>\n",
       "    <tr>\n",
       "      <th>1</th>\n",
       "      <td>6.941400</td>\n",
       "    </tr>\n",
       "    <tr>\n",
       "      <th>2</th>\n",
       "      <td>-0.579221</td>\n",
       "    </tr>\n",
       "    <tr>\n",
       "      <th>3</th>\n",
       "      <td>17.938935</td>\n",
       "    </tr>\n",
       "    <tr>\n",
       "      <th>4</th>\n",
       "      <td>9.253374</td>\n",
       "    </tr>\n",
       "  </tbody>\n",
       "</table>\n",
       "</div>"
      ],
      "text/plain": [
       "        data\n",
       "0  19.111743\n",
       "1   6.941400\n",
       "2  -0.579221\n",
       "3  17.938935\n",
       "4   9.253374"
      ]
     },
     "execution_count": 2,
     "metadata": {},
     "output_type": "execute_result"
    }
   ],
   "source": [
    "data = np.random.normal(5, 15, 30)\n",
    "data_df = pd.DataFrame({\"data\":data})\n",
    "data_df.head()"
   ]
  },
  {
   "cell_type": "markdown",
   "id": "ac04f2bc",
   "metadata": {},
   "source": [
    "You can use pandas `describe()` method to print few summary stats. But it doesn't include stats such as median and Inter Quartile Range (IQR). \n",
    "\n",
    "The pandas `agg()` method can help us get such custom stats. \n",
    "\n",
    "Let's use it to print below stats: \n",
    "* Minimum Value\n",
    "* Maximum Value\n",
    "* Range\n",
    "* Mean\n",
    "* Median\n",
    "* Standard Deviation\n",
    "* Inter Quartile Range (IQR)\n",
    "\n",
    "Pandas doesn't have built-in aggregate functions for Range and IQR. So we write our own:"
   ]
  },
  {
   "cell_type": "code",
   "execution_count": 3,
   "id": "4e45978e",
   "metadata": {},
   "outputs": [],
   "source": [
    "# Input's inter quartile range\n",
    "def IQR(column): \n",
    "    q25, q75 = column.quantile([0.25, 0.75])\n",
    "    return q75-q25\n",
    "\n",
    "# input's range  \n",
    "def range_f(column):\n",
    "    return column.max() - column.min()"
   ]
  },
  {
   "cell_type": "code",
   "execution_count": 4,
   "id": "d17e25db",
   "metadata": {},
   "outputs": [],
   "source": [
    "# All the stats we'll print\n",
    "stats_list = [\n",
    "    'min', 'max', range_f, 'mean', 'median', \n",
    "    'std', # standard deviation \n",
    "    IQR   \n",
    "]"
   ]
  },
  {
   "cell_type": "markdown",
   "id": "595453a9",
   "metadata": {},
   "source": [
    "And here are the custom stats:  "
   ]
  },
  {
   "cell_type": "code",
   "execution_count": 5,
   "id": "7efa0963",
   "metadata": {},
   "outputs": [
    {
     "data": {
      "text/html": [
       "<div>\n",
       "<style scoped>\n",
       "    .dataframe tbody tr th:only-of-type {\n",
       "        vertical-align: middle;\n",
       "    }\n",
       "\n",
       "    .dataframe tbody tr th {\n",
       "        vertical-align: top;\n",
       "    }\n",
       "\n",
       "    .dataframe thead th {\n",
       "        text-align: right;\n",
       "    }\n",
       "</style>\n",
       "<table border=\"1\" class=\"dataframe\">\n",
       "  <thead>\n",
       "    <tr style=\"text-align: right;\">\n",
       "      <th></th>\n",
       "      <th>Value</th>\n",
       "    </tr>\n",
       "  </thead>\n",
       "  <tbody>\n",
       "    <tr>\n",
       "      <th>Minimum</th>\n",
       "      <td>-17.84</td>\n",
       "    </tr>\n",
       "    <tr>\n",
       "      <th>Maximum</th>\n",
       "      <td>25.44</td>\n",
       "    </tr>\n",
       "    <tr>\n",
       "      <th>Range</th>\n",
       "      <td>43.28</td>\n",
       "    </tr>\n",
       "    <tr>\n",
       "      <th>Mean</th>\n",
       "      <td>5.30</td>\n",
       "    </tr>\n",
       "    <tr>\n",
       "      <th>Median</th>\n",
       "      <td>6.70</td>\n",
       "    </tr>\n",
       "    <tr>\n",
       "      <th>Standard Deviation</th>\n",
       "      <td>11.45</td>\n",
       "    </tr>\n",
       "    <tr>\n",
       "      <th>IQR</th>\n",
       "      <td>15.37</td>\n",
       "    </tr>\n",
       "  </tbody>\n",
       "</table>\n",
       "</div>"
      ],
      "text/plain": [
       "                    Value\n",
       "Minimum            -17.84\n",
       "Maximum             25.44\n",
       "Range               43.28\n",
       "Mean                 5.30\n",
       "Median               6.70\n",
       "Standard Deviation  11.45\n",
       "IQR                 15.37"
      ]
     },
     "execution_count": 5,
     "metadata": {},
     "output_type": "execute_result"
    }
   ],
   "source": [
    "summary_stats = data_df.agg(stats_list).round(2)\n",
    "\n",
    "pretty_names = ['Minimum', 'Maximum', 'Range', 'Mean', 'Median', 'Standard Deviation', 'IQR']\n",
    "summary_stats = pd.DataFrame(summary_stats.values, index=pretty_names, columns=['Value'])\n",
    "summary_stats"
   ]
  },
  {
   "cell_type": "markdown",
   "id": "7481a498",
   "metadata": {},
   "source": [
    "---------------"
   ]
  },
  {
   "cell_type": "markdown",
   "id": "84aaa5bb",
   "metadata": {},
   "source": [
    "Check out my Machine Learning blog at https://YashmeetSingh.com"
   ]
  }
 ],
 "metadata": {
  "kernelspec": {
   "display_name": "Python 3 (ipykernel)",
   "language": "python",
   "name": "python3"
  },
  "language_info": {
   "codemirror_mode": {
    "name": "ipython",
    "version": 3
   },
   "file_extension": ".py",
   "mimetype": "text/x-python",
   "name": "python",
   "nbconvert_exporter": "python",
   "pygments_lexer": "ipython3",
   "version": "3.10.0"
  }
 },
 "nbformat": 4,
 "nbformat_minor": 5
}
